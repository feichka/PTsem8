{
 "cells": [
  {
   "cell_type": "markdown",
   "id": "c56b39dc",
   "metadata": {},
   "source": [
    "Задача 1 Даны значения величины заработной платы заемщиков банка (zp) и значения их\n",
    "поведенческого кредитного скоринга (ks):\n",
    "zp = [35, 45, 190, 200, 40, 70, 54, 150, 120, 110],\n",
    "ks = [401, 574, 874, 919, 459, 739, 653, 902, 746, 832].\n",
    "Найдите ковариацию этих двух величин с помощью элементарных действий, а затем с\n",
    "помощью функции cov из numpy. Полученные значения должны быть равны.\n",
    "\n",
    "Найдите коэффициент корреляции Пирсона с помощью ковариации и среднеквадратичных отклонений двух признаков,\n",
    "а затем с использованием функций из библиотек numpy и pandas."
   ]
  },
  {
   "cell_type": "code",
   "execution_count": 1,
   "id": "ad8f94c6",
   "metadata": {},
   "outputs": [],
   "source": [
    "import pandas as pd\n",
    "import numpy as np\n",
    "import scipy.stats as stats"
   ]
  },
  {
   "cell_type": "code",
   "execution_count": 59,
   "id": "c6834421",
   "metadata": {},
   "outputs": [
    {
     "name": "stdout",
     "output_type": "stream",
     "text": [
      "Рассчетная ковариация составила 9157.84, с помощью функции - 9157.84. Результаты равны.\n",
      "\n",
      "Рассчетный коэффициент корреляции Пирсона равен 0.887, с использованием функций numpy - 0.887. Результаты равны.\n"
     ]
    }
   ],
   "source": [
    "zp = np.array([35, 45, 190, 200, 40, 70, 54, 150, 120, 110])\n",
    "ks = np.array([401, 574, 874, 919, 459, 739, 653, 902, 746, 832])\n",
    "\n",
    "c = np.mean(zp * ks) - np.mean(zp) * np.mean(ks)\n",
    "c1 = np.cov(zp, ks, ddof = 0)\n",
    "print(f'Рассчетная ковариация составила {round(c,3)}, с помощью функции - {c1[0][1]}. Результаты равны.')\n",
    "print()\n",
    "s1 = np.std(zp, ddof = 0)\n",
    "s2 = np.std(ks, ddof = 0)\n",
    "kor = c/(s1*s2)\n",
    "kor1 = np.corrcoef(zp, ks)\n",
    "print(f'Рассчетный коэффициент корреляции Пирсона равен {round(kor,3)}, с использованием функций numpy - {round(kor1[0][1],3)}. Результаты равны.')"
   ]
  },
  {
   "cell_type": "markdown",
   "id": "8fec01fa",
   "metadata": {},
   "source": [
    "Задача 2 Измерены значения IQ выборки студентов,\n",
    "обучающихся в местных технических вузах:\n",
    "131, 125, 115, 122, 131, 115, 107, 99, 125, 111.\n",
    "Известно, что в генеральной совокупности IQ распределен нормально.\n",
    "Найдите доверительный интервал для математического ожидания с надежностью 0.95."
   ]
  },
  {
   "cell_type": "code",
   "execution_count": 25,
   "id": "13ccca1c",
   "metadata": {},
   "outputs": [
    {
     "data": {
      "text/plain": [
       "(110.55608365158724, 125.64391634841274)"
      ]
     },
     "execution_count": 25,
     "metadata": {},
     "output_type": "execute_result"
    }
   ],
   "source": [
    "x = [131, 125, 115, 122, 131, 115, 107, 99, 125, 111]\n",
    "p = 0.95\n",
    "a = 1-p\n",
    "\n",
    "t = stats.t.ppf(a/2, df = len(x)-1)\n",
    "sigma = np.std(x, ddof = 1)\n",
    "t_l = np.mean(x) + t * (sigma/np.sqrt(len(x))) \n",
    "t_r = np.mean(x) - t * (sigma/np.sqrt(len(x))) \n",
    "t_l, t_r"
   ]
  },
  {
   "cell_type": "code",
   "execution_count": null,
   "id": "de2948d1",
   "metadata": {},
   "outputs": [],
   "source": [
    "Доверительный интервал для математического ожидания с надежностью 0.95 составляет (110.55608365158724, 125.64391634841274)"
   ]
  },
  {
   "cell_type": "markdown",
   "id": "1074d0f7",
   "metadata": {},
   "source": [
    "Задача 3 Известно, что рост футболистов в сборной распределен нормально\n",
    "с дисперсией генеральной совокупности, равной 25 кв.см. Объем выборки равен 27,\n",
    "среднее выборочное составляет 174.2. Найдите доверительный интервал для\n",
    "математического\n",
    "ожидания с надежностью 0.95."
   ]
  },
  {
   "cell_type": "code",
   "execution_count": 28,
   "id": "62729c83",
   "metadata": {},
   "outputs": [
    {
     "data": {
      "text/plain": [
       "(172.3140237765397, 176.08597622346028)"
      ]
     },
     "execution_count": 28,
     "metadata": {},
     "output_type": "execute_result"
    }
   ],
   "source": [
    "var = 25\n",
    "n = 27\n",
    "m = 174.2\n",
    "p = 0.95\n",
    "a = 1-p\n",
    "\n",
    "z = stats.norm.ppf(a/2)\n",
    "t_l = m + z * (np.sqrt(var)/np.sqrt(n))\n",
    "t_r = m - z * (np.sqrt(var)/np.sqrt(n))\n",
    "t_l, t_r"
   ]
  },
  {
   "cell_type": "code",
   "execution_count": null,
   "id": "9f7ea64d",
   "metadata": {},
   "outputs": [],
   "source": [
    "Доверительный интервал для математического ожидания с надежностью 0.95 составляет (172.3140237765397, 176.08597622346028)"
   ]
  }
 ],
 "metadata": {
  "kernelspec": {
   "display_name": "Python 3 (ipykernel)",
   "language": "python",
   "name": "python3"
  },
  "language_info": {
   "codemirror_mode": {
    "name": "ipython",
    "version": 3
   },
   "file_extension": ".py",
   "mimetype": "text/x-python",
   "name": "python",
   "nbconvert_exporter": "python",
   "pygments_lexer": "ipython3",
   "version": "3.9.13"
  }
 },
 "nbformat": 4,
 "nbformat_minor": 5
}
